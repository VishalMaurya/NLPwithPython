{
  "nbformat": 4,
  "nbformat_minor": 0,
  "metadata": {
    "colab": {
      "name": "POS-tag.ipynb",
      "provenance": [],
      "include_colab_link": true
    },
    "kernelspec": {
      "name": "python3",
      "display_name": "Python 3"
    }
  },
  "cells": [
    {
      "cell_type": "markdown",
      "metadata": {
        "id": "view-in-github",
        "colab_type": "text"
      },
      "source": [
        "<a href=\"https://colab.research.google.com/github/VishalMaurya/NLPwithPython/blob/master/Course/NLP_02_Part-speech-tagging/POS_tag.ipynb\" target=\"_parent\"><img src=\"https://colab.research.google.com/assets/colab-badge.svg\" alt=\"Open In Colab\"/></a>"
      ]
    },
    {
      "cell_type": "code",
      "metadata": {
        "id": "EPTmpfYlq89P",
        "colab_type": "code",
        "colab": {}
      },
      "source": [
        "# Perform standard imports\n",
        "import spacy\n",
        "nlp = spacy.load('en_core_web_sm')"
      ],
      "execution_count": 0,
      "outputs": []
    },
    {
      "cell_type": "code",
      "metadata": {
        "id": "U2R1r8z2ufGk",
        "colab_type": "code",
        "colab": {}
      },
      "source": [
        "# Create a simple Doc object\n",
        "doc = nlp(u\"The quick brown fox jumped over the lazy dog's back.\")"
      ],
      "execution_count": 0,
      "outputs": []
    },
    {
      "cell_type": "markdown",
      "metadata": {
        "id": "5r7ZD7MxwSf5",
        "colab_type": "text"
      },
      "source": [
        "# Coarse-grained Part-of-speech Tags"
      ]
    },
    {
      "cell_type": "code",
      "metadata": {
        "id": "OrKtliDaukD9",
        "colab_type": "code",
        "colab": {
          "base_uri": "https://localhost:8080/",
          "height": 265
        },
        "outputId": "4a4a3101-516f-49b0-aed8-ff03db642b11"
      },
      "source": [
        "print(f'text    POS tag     POS-ID reference\\n')\n",
        "for token in doc:\n",
        "  print(f'{token.text:{8}} {token.pos_:{8}} {token.pos:{8}} {spacy.explain(token.pos_)}')"
      ],
      "execution_count": 13,
      "outputs": [
        {
          "output_type": "stream",
          "text": [
            "text    POS tag     POS-ID reference\n",
            "\n",
            "The      DET            90 determiner\n",
            "quick    ADJ            84 adjective\n",
            "brown    ADJ            84 adjective\n",
            "fox      NOUN           92 noun\n",
            "jumped   VERB          100 verb\n",
            "over     ADP            85 adposition\n",
            "the      DET            90 determiner\n",
            "lazy     ADJ            84 adjective\n",
            "dog      NOUN           92 noun\n",
            "'s       PART           94 particle\n",
            "back     NOUN           92 noun\n",
            ".        PUNCT          97 punctuation\n"
          ],
          "name": "stdout"
        }
      ]
    },
    {
      "cell_type": "code",
      "metadata": {
        "id": "KavIyLrounxu",
        "colab_type": "code",
        "colab": {
          "base_uri": "https://localhost:8080/",
          "height": 34
        },
        "outputId": "728dc736-d5e2-4488-9438-42800c6da703"
      },
      "source": [
        "# count by POS tag present in doc\n",
        "doc.count_by(spacy.attrs.POS)"
      ],
      "execution_count": 16,
      "outputs": [
        {
          "output_type": "execute_result",
          "data": {
            "text/plain": [
              "{84: 3, 85: 1, 90: 2, 92: 3, 94: 1, 97: 1, 100: 1}"
            ]
          },
          "metadata": {
            "tags": []
          },
          "execution_count": 16
        }
      ]
    },
    {
      "cell_type": "code",
      "metadata": {
        "id": "scpOB6Izwf-y",
        "colab_type": "code",
        "colab": {
          "base_uri": "https://localhost:8080/",
          "height": 141
        },
        "outputId": "d4493ec2-ecc5-4af1-f4a3-e5b3250f8f71"
      },
      "source": [
        "for key, value in sorted(doc.count_by(spacy.attrs.POS).items()):\n",
        "  print(f'{key} {doc.vocab[key].text} {value}')"
      ],
      "execution_count": 21,
      "outputs": [
        {
          "output_type": "stream",
          "text": [
            "84 ADJ 3\n",
            "85 ADP 1\n",
            "90 DET 2\n",
            "92 NOUN 3\n",
            "94 PART 1\n",
            "97 PUNCT 1\n",
            "100 VERB 1\n"
          ],
          "name": "stdout"
        }
      ]
    },
    {
      "cell_type": "markdown",
      "metadata": {
        "id": "dB8AzA2Sx48n",
        "colab_type": "text"
      },
      "source": [
        "# Fine-grained Part-of-speech Tags"
      ]
    },
    {
      "cell_type": "code",
      "metadata": {
        "id": "ululMWDkxUBF",
        "colab_type": "code",
        "colab": {
          "base_uri": "https://localhost:8080/",
          "height": 265
        },
        "outputId": "e67a667d-2a26-4f52-e6be-308dc42ddfda"
      },
      "source": [
        "print(f'text        TAG        TAG-ID     reference\\n')\n",
        "for token in doc:\n",
        "  print(f'{token.text:{10}} {token.tag_:<{5}} {token.tag:>{22}} {spacy.explain(token.tag_)}')"
      ],
      "execution_count": 52,
      "outputs": [
        {
          "output_type": "stream",
          "text": [
            "text        TAG        TAG-ID     reference\n",
            "\n",
            "The        DT      15267657372422890137 determiner\n",
            "quick      JJ      10554686591937588953 adjective\n",
            "brown      JJ      10554686591937588953 adjective\n",
            "fox        NN      15308085513773655218 noun, singular or mass\n",
            "jumped     VBD     17109001835818727656 verb, past tense\n",
            "over       IN       1292078113972184607 conjunction, subordinating or preposition\n",
            "the        DT      15267657372422890137 determiner\n",
            "lazy       JJ      10554686591937588953 adjective\n",
            "dog        NN      15308085513773655218 noun, singular or mass\n",
            "'s         POS                       74 possessive ending\n",
            "back       NN      15308085513773655218 noun, singular or mass\n",
            ".          .       12646065887601541794 punctuation mark, sentence closer\n"
          ],
          "name": "stdout"
        }
      ]
    },
    {
      "cell_type": "code",
      "metadata": {
        "id": "cgShYsizyFCK",
        "colab_type": "code",
        "colab": {
          "base_uri": "https://localhost:8080/",
          "height": 141
        },
        "outputId": "8f19740a-ed0b-4045-ce83-f9bb980b0619"
      },
      "source": [
        "# count by TAG tag present in doc\n",
        "doc.count_by(spacy.attrs.TAG)"
      ],
      "execution_count": 38,
      "outputs": [
        {
          "output_type": "execute_result",
          "data": {
            "text/plain": [
              "{74: 1,\n",
              " 1292078113972184607: 1,\n",
              " 10554686591937588953: 3,\n",
              " 12646065887601541794: 1,\n",
              " 15267657372422890137: 2,\n",
              " 15308085513773655218: 3,\n",
              " 17109001835818727656: 1}"
            ]
          },
          "metadata": {
            "tags": []
          },
          "execution_count": 38
        }
      ]
    },
    {
      "cell_type": "code",
      "metadata": {
        "id": "GKH57lB2yttG",
        "colab_type": "code",
        "colab": {
          "base_uri": "https://localhost:8080/",
          "height": 141
        },
        "outputId": "a3cc1929-b356-4111-dbc4-290e012a6097"
      },
      "source": [
        "for key, value in sorted(doc.count_by(spacy.attrs.TAG).items()):\n",
        "  print(f'{key:<{25}} {doc.vocab[key].text:>{10}} {value}')"
      ],
      "execution_count": 46,
      "outputs": [
        {
          "output_type": "stream",
          "text": [
            "74                               POS 1\n",
            "1292078113972184607               IN 1\n",
            "10554686591937588953              JJ 3\n",
            "12646065887601541794               . 1\n",
            "15267657372422890137              DT 2\n",
            "15308085513773655218              NN 3\n",
            "17109001835818727656             VBD 1\n"
          ],
          "name": "stdout"
        }
      ]
    },
    {
      "cell_type": "markdown",
      "metadata": {
        "id": "nEwENddfzQTM",
        "colab_type": "text"
      },
      "source": [
        "# DEP tag"
      ]
    },
    {
      "cell_type": "code",
      "metadata": {
        "id": "DEloTQqdyywq",
        "colab_type": "code",
        "colab": {
          "base_uri": "https://localhost:8080/",
          "height": 265
        },
        "outputId": "2b3fedbf-7d8c-4d2b-b0ab-4cba57ad8c7e"
      },
      "source": [
        "print(f'text    DEP tag              DEP-ID       reference\\n')\n",
        "for token in doc:\n",
        "  print(f'{token.text:{8}} {token.dep_:{8}} {token.dep:{22}} {spacy.explain(token.dep_)}')"
      ],
      "execution_count": 58,
      "outputs": [
        {
          "output_type": "stream",
          "text": [
            "text    DEP tag              DEP-ID       reference\n",
            "\n",
            "The      det                         415 determiner\n",
            "quick    amod                        402 adjectival modifier\n",
            "brown    amod                        402 adjectival modifier\n",
            "fox      nsubj                       429 nominal subject\n",
            "jumped   ROOT        8206900633647566924 None\n",
            "over     prep                        443 prepositional modifier\n",
            "the      det                         415 determiner\n",
            "lazy     amod                        402 adjectival modifier\n",
            "dog      poss                        440 possession modifier\n",
            "'s       case        8110129090154140942 case marking\n",
            "back     pobj                        439 object of preposition\n",
            ".        punct                       445 punctuation\n"
          ],
          "name": "stdout"
        }
      ]
    },
    {
      "cell_type": "code",
      "metadata": {
        "id": "iksRwM3VzvdJ",
        "colab_type": "code",
        "colab": {
          "base_uri": "https://localhost:8080/",
          "height": 176
        },
        "outputId": "8bbc544c-5ceb-4ea9-e43b-341dc08b1455"
      },
      "source": [
        "# count by DEP tag present in doc\n",
        "doc.count_by(spacy.attrs.DEP)"
      ],
      "execution_count": 59,
      "outputs": [
        {
          "output_type": "execute_result",
          "data": {
            "text/plain": [
              "{402: 3,\n",
              " 415: 2,\n",
              " 429: 1,\n",
              " 439: 1,\n",
              " 440: 1,\n",
              " 443: 1,\n",
              " 445: 1,\n",
              " 8110129090154140942: 1,\n",
              " 8206900633647566924: 1}"
            ]
          },
          "metadata": {
            "tags": []
          },
          "execution_count": 59
        }
      ]
    },
    {
      "cell_type": "code",
      "metadata": {
        "id": "z4TiPskB0Gwj",
        "colab_type": "code",
        "colab": {
          "base_uri": "https://localhost:8080/",
          "height": 176
        },
        "outputId": "9f03e338-6345-49e1-ae3d-ba960e798e27"
      },
      "source": [
        "for key, value in sorted(doc.count_by(spacy.attrs.DEP).items()):\n",
        "  print(f'{key:<{25}} {doc.vocab[key].text:>{10}} {value}')"
      ],
      "execution_count": 60,
      "outputs": [
        {
          "output_type": "stream",
          "text": [
            "402                             amod 3\n",
            "415                              det 2\n",
            "429                            nsubj 1\n",
            "439                             pobj 1\n",
            "440                             poss 1\n",
            "443                             prep 1\n",
            "445                            punct 1\n",
            "8110129090154140942             case 1\n",
            "8206900633647566924             ROOT 1\n"
          ],
          "name": "stdout"
        }
      ]
    },
    {
      "cell_type": "markdown",
      "metadata": {
        "id": "77v-MsvE0TZC",
        "colab_type": "text"
      },
      "source": [
        "# lemma tag"
      ]
    },
    {
      "cell_type": "code",
      "metadata": {
        "id": "xcHHOT1Z0NgL",
        "colab_type": "code",
        "colab": {
          "base_uri": "https://localhost:8080/",
          "height": 265
        },
        "outputId": "40186067-7482-4e1c-b3e0-2f3cbb4c8006"
      },
      "source": [
        "print(f'text    lemma tag              lemma-ID       reference\\n')\n",
        "for token in doc:\n",
        "  print(f'{token.text:{8}} {token.lemma_:{8}} {token.lemma:{22}} {spacy.explain(token.lemma_)}')"
      ],
      "execution_count": 61,
      "outputs": [
        {
          "output_type": "stream",
          "text": [
            "text    lemma tag              lemma-ID       reference\n",
            "\n",
            "The      the         7425985699627899538 None\n",
            "quick    quick      12442504647632856847 None\n",
            "brown    brown      15566893785393968193 None\n",
            "fox      fox         4333436952782779665 None\n",
            "jumped   jump        7269679109085336853 None\n",
            "over     over        5456543204961066030 None\n",
            "the      the         7425985699627899538 None\n",
            "lazy     lazy        8463806658378306174 None\n",
            "dog      dog         7562983679033046312 None\n",
            "'s       's         16428057658620181782 None\n",
            "back     back       15255859468896132977 None\n",
            ".        .          12646065887601541794 punctuation mark, sentence closer\n"
          ],
          "name": "stdout"
        }
      ]
    },
    {
      "cell_type": "code",
      "metadata": {
        "id": "eZiUzAYt0e9-",
        "colab_type": "code",
        "colab": {
          "base_uri": "https://localhost:8080/",
          "height": 212
        },
        "outputId": "66eb6023-cf48-49e7-db1b-20e6862028f1"
      },
      "source": [
        "# count by DEP tag present in doc\n",
        "doc.count_by(spacy.attrs.LEMMA)"
      ],
      "execution_count": 62,
      "outputs": [
        {
          "output_type": "execute_result",
          "data": {
            "text/plain": [
              "{4333436952782779665: 1,\n",
              " 5456543204961066030: 1,\n",
              " 7269679109085336853: 1,\n",
              " 7425985699627899538: 2,\n",
              " 7562983679033046312: 1,\n",
              " 8463806658378306174: 1,\n",
              " 12442504647632856847: 1,\n",
              " 12646065887601541794: 1,\n",
              " 15255859468896132977: 1,\n",
              " 15566893785393968193: 1,\n",
              " 16428057658620181782: 1}"
            ]
          },
          "metadata": {
            "tags": []
          },
          "execution_count": 62
        }
      ]
    },
    {
      "cell_type": "code",
      "metadata": {
        "id": "WsH0n3V00ndc",
        "colab_type": "code",
        "colab": {
          "base_uri": "https://localhost:8080/",
          "height": 212
        },
        "outputId": "c5e41b18-1458-4294-ef83-62cc455120aa"
      },
      "source": [
        "for key, value in sorted(doc.count_by(spacy.attrs.LEMMA).items()):\n",
        "  print(f'{key:<{25}} {doc.vocab[key].text:>{10}} {value}')"
      ],
      "execution_count": 63,
      "outputs": [
        {
          "output_type": "stream",
          "text": [
            "4333436952782779665              fox 1\n",
            "5456543204961066030             over 1\n",
            "7269679109085336853             jump 1\n",
            "7425985699627899538              the 2\n",
            "7562983679033046312              dog 1\n",
            "8463806658378306174             lazy 1\n",
            "12442504647632856847           quick 1\n",
            "12646065887601541794               . 1\n",
            "15255859468896132977            back 1\n",
            "15566893785393968193           brown 1\n",
            "16428057658620181782              's 1\n"
          ],
          "name": "stdout"
        }
      ]
    },
    {
      "cell_type": "code",
      "metadata": {
        "id": "brv_zLIP0t5y",
        "colab_type": "code",
        "colab": {}
      },
      "source": [
        ""
      ],
      "execution_count": 0,
      "outputs": []
    }
  ]
}